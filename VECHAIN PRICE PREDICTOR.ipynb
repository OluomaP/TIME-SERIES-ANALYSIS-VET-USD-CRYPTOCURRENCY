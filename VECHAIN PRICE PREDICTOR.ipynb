{
 "cells": [
  {
   "cell_type": "markdown",
   "metadata": {},
   "source": [
    "# VECHAIN PRICE PREDICTION"
   ]
  },
  {
   "cell_type": "markdown",
   "metadata": {},
   "source": [
    "Predicting the price of a cryptocurrency is a regression problem in cryptocurrency. There are many machine learning approaches that we can use for the task of Vechain price prediction. You can train a machine learning model or you can also use an already available powerful model like the Facebook prophel Model. below i will be using autots library in Python for the task of predicting Vechain with Machine Learning."
   ]
  },
  {
   "cell_type": "code",
   "execution_count": 1,
   "metadata": {},
   "outputs": [],
   "source": [
    "import pandas as pd\n",
    "import numpy as np\n",
    "import matplotlib.pyplot as plt\n",
    "import seaborn as sns\n",
    "from seaborn import regression"
   ]
  },
  {
   "cell_type": "code",
   "execution_count": 2,
   "metadata": {},
   "outputs": [],
   "source": [
    "Data = pd.read_csv(\"VET-USD.csv\")"
   ]
  },
  {
   "cell_type": "code",
   "execution_count": 3,
   "metadata": {
    "scrolled": true
   },
   "outputs": [
    {
     "data": {
      "text/html": [
       "<div>\n",
       "<style scoped>\n",
       "    .dataframe tbody tr th:only-of-type {\n",
       "        vertical-align: middle;\n",
       "    }\n",
       "\n",
       "    .dataframe tbody tr th {\n",
       "        vertical-align: top;\n",
       "    }\n",
       "\n",
       "    .dataframe thead th {\n",
       "        text-align: right;\n",
       "    }\n",
       "</style>\n",
       "<table border=\"1\" class=\"dataframe\">\n",
       "  <thead>\n",
       "    <tr style=\"text-align: right;\">\n",
       "      <th></th>\n",
       "      <th>Date</th>\n",
       "      <th>Open</th>\n",
       "      <th>High</th>\n",
       "      <th>Low</th>\n",
       "      <th>Close</th>\n",
       "      <th>Adj Close</th>\n",
       "      <th>Volume</th>\n",
       "    </tr>\n",
       "  </thead>\n",
       "  <tbody>\n",
       "    <tr>\n",
       "      <th>0</th>\n",
       "      <td>2020-06-16</td>\n",
       "      <td>0.009026</td>\n",
       "      <td>0.009412</td>\n",
       "      <td>0.008834</td>\n",
       "      <td>0.009046</td>\n",
       "      <td>0.009046</td>\n",
       "      <td>259413121.0</td>\n",
       "    </tr>\n",
       "    <tr>\n",
       "      <th>1</th>\n",
       "      <td>2020-06-17</td>\n",
       "      <td>0.009058</td>\n",
       "      <td>0.009216</td>\n",
       "      <td>0.008709</td>\n",
       "      <td>0.009007</td>\n",
       "      <td>0.009007</td>\n",
       "      <td>238843204.0</td>\n",
       "    </tr>\n",
       "    <tr>\n",
       "      <th>2</th>\n",
       "      <td>2020-06-18</td>\n",
       "      <td>0.009007</td>\n",
       "      <td>0.009033</td>\n",
       "      <td>0.008447</td>\n",
       "      <td>0.008684</td>\n",
       "      <td>0.008684</td>\n",
       "      <td>214027071.0</td>\n",
       "    </tr>\n",
       "    <tr>\n",
       "      <th>3</th>\n",
       "      <td>2020-06-19</td>\n",
       "      <td>0.008685</td>\n",
       "      <td>0.008706</td>\n",
       "      <td>0.008310</td>\n",
       "      <td>0.008340</td>\n",
       "      <td>0.008340</td>\n",
       "      <td>205254332.0</td>\n",
       "    </tr>\n",
       "    <tr>\n",
       "      <th>4</th>\n",
       "      <td>2020-06-20</td>\n",
       "      <td>0.008340</td>\n",
       "      <td>0.008457</td>\n",
       "      <td>0.008101</td>\n",
       "      <td>0.008286</td>\n",
       "      <td>0.008286</td>\n",
       "      <td>197159502.0</td>\n",
       "    </tr>\n",
       "  </tbody>\n",
       "</table>\n",
       "</div>"
      ],
      "text/plain": [
       "         Date      Open      High       Low     Close  Adj Close       Volume\n",
       "0  2020-06-16  0.009026  0.009412  0.008834  0.009046   0.009046  259413121.0\n",
       "1  2020-06-17  0.009058  0.009216  0.008709  0.009007   0.009007  238843204.0\n",
       "2  2020-06-18  0.009007  0.009033  0.008447  0.008684   0.008684  214027071.0\n",
       "3  2020-06-19  0.008685  0.008706  0.008310  0.008340   0.008340  205254332.0\n",
       "4  2020-06-20  0.008340  0.008457  0.008101  0.008286   0.008286  197159502.0"
      ]
     },
     "execution_count": 3,
     "metadata": {},
     "output_type": "execute_result"
    }
   ],
   "source": [
    "Data.head()"
   ]
  },
  {
   "cell_type": "code",
   "execution_count": 4,
   "metadata": {
    "scrolled": false
   },
   "outputs": [
    {
     "data": {
      "image/png": "[encoded data removed]",
      "text/plain": [
       "<Figure size 720x288 with 1 Axes>"
      ]
     },
     "metadata": {
      "needs_background": "light"
     },
     "output_type": "display_data"
    }
   ],
   "source": [
    "Data.dropna()\n",
    "plt.figure(figsize=(10, 4))\n",
    "plt.title(\"Vechain Price\")\n",
    "plt.xlabel(\"Date\")\n",
    "plt.ylabel(\"Close\")\n",
    "plt.plot(Data[\"Close\"])\n",
    "plt.show()"
   ]
  },
  {
   "cell_type": "code",
   "execution_count": 5,
   "metadata": {
    "scrolled": false
   },
   "outputs": [
    {
     "name": "stderr",
     "output_type": "stream",
     "text": [
      "/anaconda3/lib/python3.7/site-packages/autots/models/sklearn.py:439: VisibleDeprecationWarning: Creating an ndarray from ragged nested sequences (which is a list-or-tuple of lists-or-tuples-or ndarrays with different lengths or shapes) is deprecated. If you meant to do this, you must specify 'dtype=object' when creating the ndarray.\n",
      "  size=1,\n",
      "/anaconda3/lib/python3.7/site-packages/autots/models/sklearn.py:376: VisibleDeprecationWarning: Creating an ndarray from ragged nested sequences (which is a list-or-tuple of lists-or-tuples-or ndarrays with different lengths or shapes) is deprecated. If you meant to do this, you must specify 'dtype=object' when creating the ndarray.\n",
      "  size=1,\n"
     ]
    },
    {
     "name": "stdout",
     "output_type": "stream",
     "text": [
      "Inferred frequency is: D\n",
      "Old data dropped by `drop_data_older_than_periods`.\n",
      "Model Number: 1 with model AverageValueNaive in generation 0 of 5\n",
      "Model Number: 2 with model AverageValueNaive in generation 0 of 5\n",
      "Model Number: 3 with model AverageValueNaive in generation 0 of 5\n",
      "Template Eval Error: ValueError('Unable to coerce to Series, length must be 1: given 190') in model 3: AverageValueNaive\n",
      "Model Number: 4 with model DatepartRegression in generation 0 of 5\n",
      "Model Number: 5 with model DatepartRegression in generation 0 of 5\n",
      "Model Number: 6 with model DatepartRegression in generation 0 of 5\n"
     ]
    },
    {
     "name": "stderr",
     "output_type": "stream",
     "text": [
      "/anaconda3/lib/python3.7/site-packages/sklearn/utils/validation.py:63: DataConversionWarning: A column-vector y was passed when a 1d array was expected. Please change the shape of y to (n_samples, ), for example using ravel().\n",
      "  return f(*args, **kwargs)\n",
      "/anaconda3/lib/python3.7/site-packages/sklearn/neural_network/_multilayer_perceptron.py:500: ConvergenceWarning: lbfgs failed to converge (status=1):\n",
      "STOP: TOTAL NO. of ITERATIONS REACHED LIMIT.\n",
      "\n",
      "Increase the number of iterations (max_iter) or scale the data as shown in:\n",
      "    https://scikit-learn.org/stable/modules/preprocessing.html\n",
      "  self.n_iter_ = _check_optimize_result(\"lbfgs\", opt_res, self.max_iter)\n",
      "/anaconda3/lib/python3.7/site-packages/statsmodels/tsa/holtwinters/model.py:429: FutureWarning: After 0.13 initialization must be handled at model creation\n",
      "  FutureWarning,\n"
     ]
    },
    {
     "name": "stdout",
     "output_type": "stream",
     "text": [
      "Model Number: 7 with model DatepartRegression in generation 0 of 5\n",
      "Template Eval Error: ImportError('Tensorflow not available, install with pip install tensorflow.') in model 7: DatepartRegression\n",
      "Model Number: 8 with model ETS in generation 0 of 5\n",
      "Model Number: 9 with model ETS in generation 0 of 5\n",
      "Template Eval Error: ValueError('Unable to coerce to Series, length must be 1: given 190') in model 9: ETS\n",
      "Model Number: 10 with model GLM in generation 0 of 5\n",
      "Model Number: 11 with model GLM in generation 0 of 5\n",
      "Model Number: 12 with model GLS in generation 0 of 5\n",
      "Model Number: 13 with model GLS in generation 0 of 5\n",
      "Model Number: 14 with model GluonTS in generation 0 of 5\n",
      "Template Eval Error: ImportError('GluonTS installation not found or installed version is incompatible with AutoTS.') in model 14: GluonTS\n",
      "Model Number: 15 with model GluonTS in generation 0 of 5\n",
      "Template Eval Error: ImportError('GluonTS installation not found or installed version is incompatible with AutoTS.') in model 15: GluonTS\n",
      "Model Number: 16 with model GluonTS in generation 0 of 5\n",
      "Template Eval Error: ImportError('GluonTS installation not found or installed version is incompatible with AutoTS.') in model 16: GluonTS\n",
      "Model Number: 17 with model GluonTS in generation 0 of 5\n",
      "Template Eval Error: ImportError('GluonTS installation not found or installed version is incompatible with AutoTS.') in model 17: GluonTS\n",
      "Model Number: 18 with model GluonTS in generation 0 of 5\n",
      "Template Eval Error: ImportError('GluonTS installation not found or installed version is incompatible with AutoTS.') in model 18: GluonTS\n",
      "Model Number: 19 with model GluonTS in generation 0 of 5\n",
      "Template Eval Error: ImportError('GluonTS installation not found or installed version is incompatible with AutoTS.') in model 19: GluonTS\n",
      "Model Number: 20 with model LastValueNaive in generation 0 of 5\n",
      "Model Number: 21 with model LastValueNaive in generation 0 of 5\n",
      "Model Number: 22 with model LastValueNaive in generation 0 of 5\n",
      "Model Number: 23 with model LastValueNaive in generation 0 of 5\n",
      "Model Number: 24 with model SeasonalNaive in generation 0 of 5\n",
      "Model Number: 25 with model SeasonalNaive in generation 0 of 5\n",
      "Model Number: 26 with model SeasonalNaive in generation 0 of 5\n",
      "Template Eval Error: ValueError('Unable to coerce to Series, length must be 1: given 190') in model 26: SeasonalNaive\n",
      "Model Number: 27 with model SeasonalNaive in generation 0 of 5\n",
      "Model Number: 28 with model UnobservedComponents in generation 0 of 5\n",
      "Model Number: 29 with model UnobservedComponents in generation 0 of 5\n",
      "Model Number: 30 with model UnobservedComponents in generation 0 of 5\n",
      "Model Number: 31 with model VAR in generation 0 of 5\n",
      "Template Eval Error: ValueError('Only gave one variable to VAR') in model 31: VAR\n",
      "Model Number: 32 with model VAR in generation 0 of 5\n",
      "Template Eval Error: ValueError('Only gave one variable to VAR') in model 32: VAR\n",
      "Model Number: 33 with model VAR in generation 0 of 5\n",
      "Template Eval Error: ValueError('Only gave one variable to VAR') in model 33: VAR\n",
      "Model Number: 34 with model VECM in generation 0 of 5\n",
      "Template Eval Error: ValueError('Unable to coerce to Series, length must be 1: given 190') in model 34: VECM\n",
      "Model Number: 35 with model VECM in generation 0 of 5\n",
      "Template Eval Error: ValueError('Only gave one variable to VECM') in model 35: VECM\n",
      "Model Number: 36 with model VECM in generation 0 of 5\n",
      "Template Eval Error: ValueError('Only gave one variable to VECM') in model 36: VECM\n",
      "Model Number: 37 with model VECM in generation 0 of 5\n",
      "Template Eval Error: ValueError('Only gave one variable to VECM') in model 37: VECM\n",
      "Model Number: 38 with model WindowRegression in generation 0 of 5\n"
     ]
    },
    {
     "name": "stderr",
     "output_type": "stream",
     "text": [
      "/anaconda3/lib/python3.7/site-packages/sklearn/neural_network/_multilayer_perceptron.py:500: ConvergenceWarning: lbfgs failed to converge (status=1):\n",
      "STOP: TOTAL NO. of ITERATIONS REACHED LIMIT.\n",
      "\n",
      "Increase the number of iterations (max_iter) or scale the data as shown in:\n",
      "    https://scikit-learn.org/stable/modules/preprocessing.html\n",
      "  self.n_iter_ = _check_optimize_result(\"lbfgs\", opt_res, self.max_iter)\n"
     ]
    },
    {
     "name": "stdout",
     "output_type": "stream",
     "text": [
      "Model Number: 39 with model ZeroesNaive in generation 0 of 5\n",
      "Model Number: 40 with model GLS in generation 0 of 5\n",
      "Template Eval Error: ValueError('Unable to coerce to Series, length must be 1: given 190') in model 40: GLS\n",
      "Model Number: 41 with model UnobservedComponents in generation 0 of 5\n",
      "Template Eval Error: ValueError('Unable to coerce to Series, length must be 1: given 190') in model 41: UnobservedComponents\n",
      "Model Number: 42 with model GLS in generation 0 of 5\n",
      "Template Eval Error: ValueError('Unable to coerce to Series, length must be 1: given 190') in model 42: GLS\n",
      "Model Number: 43 with model VECM in generation 0 of 5\n",
      "Template Eval Error: ValueError('Unable to coerce to Series, length must be 1: given 190') in model 43: VECM\n",
      "Model Number: 44 with model ETS in generation 0 of 5\n"
     ]
    },
    {
     "name": "stderr",
     "output_type": "stream",
     "text": [
      "/anaconda3/lib/python3.7/site-packages/statsmodels/tsa/holtwinters/model.py:429: FutureWarning: After 0.13 initialization must be handled at model creation\n",
      "  FutureWarning,\n"
     ]
    },
    {
     "name": "stdout",
     "output_type": "stream",
     "text": [
      "Model Number: 45 with model GLS in generation 0 of 5\n",
      "Model Number: 46 with model VECM in generation 0 of 5\n",
      "Template Eval Error: ValueError('Only gave one variable to VECM') in model 46: VECM\n",
      "Model Number: 47 with model VAR in generation 0 of 5\n",
      "Template Eval Error: ValueError('Unable to coerce to Series, length must be 1: given 190') in model 47: VAR\n",
      "Model Number: 48 with model GluonTS in generation 0 of 5\n",
      "Template Eval Error: ValueError('Unable to coerce to Series, length must be 1: given 190') in model 48: GluonTS\n",
      "Model Number: 49 with model RollingRegression in generation 0 of 5\n",
      "Model Number: 50 with model VAR in generation 0 of 5\n",
      "Template Eval Error: ValueError('Only gave one variable to VAR') in model 50: VAR\n",
      "Model Number: 51 with model LastValueNaive in generation 0 of 5\n",
      "Template Eval Error: ValueError('Unable to coerce to Series, length must be 1: given 190') in model 51: LastValueNaive\n",
      "Model Number: 52 with model LastValueNaive in generation 0 of 5\n",
      "Model Number: 53 with model FBProphet in generation 0 of 5\n",
      "Template Eval Error: ImportError('Package fbprophet is required') in model 53: FBProphet\n",
      "Model Number: 54 with model WindowRegression in generation 0 of 5\n",
      "Model Number: 55 with model ZeroesNaive in generation 0 of 5\n",
      "Model Number: 56 with model GluonTS in generation 0 of 5\n",
      "Template Eval Error: ValueError('Unable to coerce to Series, length must be 1: given 190') in model 56: GluonTS\n",
      "Model Number: 57 with model WindowRegression in generation 0 of 5\n",
      "Template Eval Error: ImportError('Tensorflow not available, install with pip install tensorflow.') in model 57: WindowRegression\n",
      "Model Number: 58 with model SeasonalNaive in generation 0 of 5\n",
      "Model Number: 59 with model GLS in generation 0 of 5\n",
      "Template Eval Error: ValueError('Unable to coerce to Series, length must be 1: given 190') in model 59: GLS\n",
      "Model Number: 60 with model SeasonalNaive in generation 0 of 5\n",
      "Template Eval Error: ValueError('Unable to coerce to Series, length must be 1: given 190') in model 60: SeasonalNaive\n",
      "Model Number: 61 with model AverageValueNaive in generation 0 of 5\n",
      "Model Number: 62 with model ZeroesNaive in generation 0 of 5\n",
      "Template Eval Error: ValueError('Unable to coerce to Series, length must be 1: given 190') in model 62: ZeroesNaive\n",
      "Model Number: 63 with model DatepartRegression in generation 0 of 5\n",
      "Model Number: 64 with model VAR in generation 0 of 5\n",
      "Template Eval Error: ValueError('Only gave one variable to VAR') in model 64: VAR\n",
      "Model Number: 65 with model SeasonalNaive in generation 0 of 5\n",
      "Model Number: 66 with model LastValueNaive in generation 0 of 5\n",
      "Model Number: 67 with model WindowRegression in generation 0 of 5\n"
     ]
    },
    {
     "name": "stderr",
     "output_type": "stream",
     "text": [
      "/anaconda3/lib/python3.7/site-packages/sklearn/utils/validation.py:63: DataConversionWarning: A column-vector y was passed when a 1d array was expected. Please change the shape of y to (n_samples, ), for example using ravel().\n",
      "  return f(*args, **kwargs)\n",
      "/anaconda3/lib/python3.7/site-packages/sklearn/neural_network/_multilayer_perceptron.py:500: ConvergenceWarning: lbfgs failed to converge (status=1):\n",
      "STOP: TOTAL NO. of ITERATIONS REACHED LIMIT.\n",
      "\n",
      "Increase the number of iterations (max_iter) or scale the data as shown in:\n",
      "    https://scikit-learn.org/stable/modules/preprocessing.html\n",
      "  self.n_iter_ = _check_optimize_result(\"lbfgs\", opt_res, self.max_iter)\n",
      "/anaconda3/lib/python3.7/site-packages/autots/models/statsmodels.py:518: FutureWarning: the 'damped'' keyword is deprecated, use 'damped_trend' instead\n",
      "  freq=args['freq'],\n"
     ]
    },
    {
     "name": "stdout",
     "output_type": "stream",
     "text": [
      "Template Eval Error: ValueError(\"Input contains NaN, infinity or a value too large for dtype('float64').\") in model 67: WindowRegression\n",
      "Model Number: 68 with model VECM in generation 0 of 5\n",
      "Template Eval Error: ValueError('Only gave one variable to VECM') in model 68: VECM\n",
      "Model Number: 69 with model ETS in generation 0 of 5\n",
      "Model Number: 70 with model FBProphet in generation 0 of 5\n",
      "Template Eval Error: ImportError('Package fbprophet is required') in model 70: FBProphet\n",
      "Model Number: 71 with model RollingRegression in generation 0 of 5\n"
     ]
    },
    {
     "name": "stderr",
     "output_type": "stream",
     "text": [
      "/anaconda3/lib/python3.7/site-packages/numpy/lib/function_base.py:2634: RuntimeWarning: Degrees of freedom <= 0 for slice\n",
      "  c = cov(x, y, rowvar, dtype=dtype)\n"
     ]
    },
    {
     "name": "stdout",
     "output_type": "stream",
     "text": [
      "Template Eval Error: ValueError(\"Input contains NaN, infinity or a value too large for dtype('float32').\") in model 71: RollingRegression\n",
      "Model Number: 72 with model UnobservedComponents in generation 0 of 5\n",
      "Model Number: 73 with model RollingRegression in generation 0 of 5\n",
      "Model Number: 74 with model UnobservedComponents in generation 0 of 5\n",
      "Model Number: 75 with model ETS in generation 0 of 5\n",
      "Model Number: 76 with model DatepartRegression in generation 0 of 5\n"
     ]
    },
    {
     "name": "stderr",
     "output_type": "stream",
     "text": [
      "/anaconda3/lib/python3.7/site-packages/statsmodels/tsa/holtwinters/model.py:429: FutureWarning: After 0.13 initialization must be handled at model creation\n",
      "  FutureWarning,\n"
     ]
    },
    {
     "name": "stdout",
     "output_type": "stream",
     "text": [
      "Model Number: 77 with model LastValueNaive in generation 0 of 5\n",
      "Template Eval Error: ValueError('Unable to coerce to Series, length must be 1: given 190') in model 77: LastValueNaive\n",
      "Model Number: 78 with model GLM in generation 0 of 5\n",
      "Template Eval Error: ValueError('Unable to coerce to Series, length must be 1: given 190') in model 78: GLM\n",
      "Model Number: 79 with model VAR in generation 0 of 5\n",
      "Template Eval Error: ValueError('Unable to coerce to Series, length must be 1: given 190') in model 79: VAR\n",
      "New Generation: 1 of 5\n",
      "Model Number: 80 with model LastValueNaive in generation 1 of 5\n",
      "Template Eval Error: ValueError('Unable to coerce to Series, length must be 1: given 190') in model 80: LastValueNaive"
     ]
    },
    {
     "name": "stderr",
     "output_type": "stream",
     "text": [
      "/anaconda3/lib/python3.7/site-packages/autots/models/sklearn.py:376: VisibleDeprecationWarning: Creating an ndarray from ragged nested sequences (which is a list-or-tuple of lists-or-tuples-or ndarrays with different lengths or shapes) is deprecated. If you meant to do this, you must specify 'dtype=object' when creating the ndarray.\n",
      "  size=1,\n"
     ]
    },
    {
     "name": "stdout",
     "output_type": "stream",
     "text": [
      "\n",
      "Model Number: 81 with model LastValueNaive in generation 1 of 5\n",
      "Template Eval Error: ValueError('Unable to coerce to Series, length must be 1: given 190') in model 81: LastValueNaive\n",
      "Model Number: 82 with model LastValueNaive in generation 1 of 5\n",
      "Model Number: 83 with model RollingRegression in generation 1 of 5\n",
      "Model Number: 84 with model RollingRegression in generation 1 of 5\n",
      "Model Number: 85 with model RollingRegression in generation 1 of 5\n"
     ]
    },
    {
     "name": "stderr",
     "output_type": "stream",
     "text": [
      "/anaconda3/lib/python3.7/site-packages/sklearn/utils/validation.py:63: DataConversionWarning: A column-vector y was passed when a 1d array was expected. Please change the shape of y to (n_samples, ), for example using ravel().\n",
      "  return f(*args, **kwargs)\n"
     ]
    },
    {
     "name": "stdout",
     "output_type": "stream",
     "text": [
      "Model Number: 86 with model RollingRegression in generation 1 of 5\n",
      "Model Number: 87 with model SeasonalNaive in generation 1 of 5\n",
      "Template Eval Error: ValueError('Unable to coerce to Series, length must be 1: given 190') in model 87: SeasonalNaive\n",
      "Model Number: 88 with model SeasonalNaive in generation 1 of 5\n",
      "Model Number: 89 with model SeasonalNaive in generation 1 of 5\n",
      "Model Number: 90 with model SeasonalNaive in generation 1 of 5\n",
      "Model Number: 91 with model DatepartRegression in generation 1 of 5\n",
      "Model Number: 92 with model DatepartRegression in generation 1 of 5\n",
      "Model Number: 93 with model DatepartRegression in generation 1 of 5\n"
     ]
    },
    {
     "name": "stderr",
     "output_type": "stream",
     "text": [
      "/anaconda3/lib/python3.7/site-packages/sklearn/utils/validation.py:63: DataConversionWarning: A column-vector y was passed when a 1d array was expected. Please change the shape of y to (n_samples, ), for example using ravel().\n",
      "  return f(*args, **kwargs)\n",
      "/anaconda3/lib/python3.7/site-packages/sklearn/neural_network/_multilayer_perceptron.py:500: ConvergenceWarning: lbfgs failed to converge (status=1):\n",
      "STOP: TOTAL NO. of ITERATIONS REACHED LIMIT.\n",
      "\n",
      "Increase the number of iterations (max_iter) or scale the data as shown in:\n",
      "    https://scikit-learn.org/stable/modules/preprocessing.html\n",
      "  self.n_iter_ = _check_optimize_result(\"lbfgs\", opt_res, self.max_iter)\n"
     ]
    },
    {
     "name": "stdout",
     "output_type": "stream",
     "text": [
      "Model Number: 94 with model UnobservedComponents in generation 1 of 5\n",
      "Model Number: 95 with model UnobservedComponents in generation 1 of 5\n",
      "Model Number: 96 with model UnobservedComponents in generation 1 of 5\n",
      "Model Number: 97 with model ETS in generation 1 of 5\n"
     ]
    },
    {
     "name": "stderr",
     "output_type": "stream",
     "text": [
      "/anaconda3/lib/python3.7/site-packages/statsmodels/tsa/holtwinters/model.py:429: FutureWarning: After 0.13 initialization must be handled at model creation\n",
      "  FutureWarning,\n",
      "/anaconda3/lib/python3.7/site-packages/statsmodels/tsa/holtwinters/model.py:429: FutureWarning: After 0.13 initialization must be handled at model creation\n",
      "  FutureWarning,\n",
      "/anaconda3/lib/python3.7/site-packages/statsmodels/tsa/holtwinters/model.py:429: FutureWarning: After 0.13 initialization must be handled at model creation\n",
      "  FutureWarning,\n"
     ]
    },
    {
     "name": "stdout",
     "output_type": "stream",
     "text": [
      "Model Number: 98 with model ETS in generation 1 of 5\n",
      "Model Number: 99 with model ETS in generation 1 of 5\n",
      "Model Number: 100 with model ETS in generation 1 of 5\n",
      "Model Number: 101 with model AverageValueNaive in generation 1 of 5\n"
     ]
    },
    {
     "name": "stderr",
     "output_type": "stream",
     "text": [
      "/anaconda3/lib/python3.7/site-packages/statsmodels/tsa/holtwinters/model.py:429: FutureWarning: After 0.13 initialization must be handled at model creation\n",
      "  FutureWarning,\n"
     ]
    },
    {
     "name": "stdout",
     "output_type": "stream",
     "text": [
      "Model Number: 102 with model AverageValueNaive in generation 1 of 5\n",
      "Model Number: 103 with model AverageValueNaive in generation 1 of 5\n",
      "Model Number: 104 with model ZeroesNaive in generation 1 of 5\n",
      "Model Number: 105 with model ZeroesNaive in generation 1 of 5\n",
      "Model Number: 106 with model ZeroesNaive in generation 1 of 5\n",
      "Template Eval Error: ValueError('Unable to coerce to Series, length must be 1: given 190') in model 106: ZeroesNaive\n",
      "Model Number: 107 with model WindowRegression in generation 1 of 5\n",
      "Model Number: 108 with model WindowRegression in generation 1 of 5\n",
      "Model Number: 109 with model WindowRegression in generation 1 of 5\n",
      "Model Number: 110 with model WindowRegression in generation 1 of 5\n",
      "Model Number: 111 with model GLS in generation 1 of 5\n",
      "Model Number: 112 with model GLS in generation 1 of 5\n",
      "Model Number: 113 with model GLS in generation 1 of 5\n",
      "Template Eval Error: ValueError(\"Input contains NaN, infinity or a value too large for dtype('float64').\") in model 113: GLS\n",
      "Model Number: 114 with model GLM in generation 1 of 5\n",
      "Model Number: 115 with model GLM in generation 1 of 5\n"
     ]
    },
    {
     "name": "stderr",
     "output_type": "stream",
     "text": [
      "/anaconda3/lib/python3.7/site-packages/statsmodels/genmod/generalized_linear_model.py:296: DomainWarning: The inverse_power link function does not respect the domain of the Gamma family.\n",
      "  DomainWarning)\n",
      "/anaconda3/lib/python3.7/site-packages/scipy/optimize/minpack.py:829: OptimizeWarning: Covariance of the parameters could not be estimated\n",
      "  category=OptimizeWarning)\n"
     ]
    },
    {
     "name": "stdout",
     "output_type": "stream",
     "text": [
      "Model Number: 116 with model GLM in generation 1 of 5\n",
      "Model Number: 117 with model GLM in generation 1 of 5\n"
     ]
    },
    {
     "name": "stderr",
     "output_type": "stream",
     "text": [
      "/anaconda3/lib/python3.7/site-packages/statsmodels/genmod/generalized_linear_model.py:296: DomainWarning: The inverse_power link function does not respect the domain of the Gamma family.\n",
      "  DomainWarning)\n"
     ]
    },
    {
     "name": "stdout",
     "output_type": "stream",
     "text": [
      "Model Number: 118 with model GluonTS in generation 1 of 5\n",
      "Template Eval Error: ImportError('GluonTS installation not found or installed version is incompatible with AutoTS.') in model 118: GluonTS\n",
      "Model Number: 119 with model GluonTS in generation 1 of 5\n",
      "Template Eval Error: ImportError('GluonTS installation not found or installed version is incompatible with AutoTS.') in model 119: GluonTS\n",
      "Model Number: 120 with model GluonTS in generation 1 of 5\n",
      "Template Eval Error: ImportError('GluonTS installation not found or installed version is incompatible with AutoTS.') in model 120: GluonTS\n",
      "Model Number: 121 with model GluonTS in generation 1 of 5\n",
      "Template Eval Error: ImportError('GluonTS installation not found or installed version is incompatible with AutoTS.') in model 121: GluonTS\n",
      "Model Number: 122 with model VAR in generation 1 of 5\n",
      "Template Eval Error: ValueError('Only gave one variable to VAR') in model 122: VAR\n",
      "Model Number: 123 with model VAR in generation 1 of 5\n",
      "Template Eval Error: ValueError('Only gave one variable to VAR') in model 123: VAR\n",
      "Model Number: 124 with model VAR in generation 1 of 5\n",
      "Template Eval Error: ValueError('Only gave one variable to VAR') in model 124: VAR\n",
      "Model Number: 125 with model VAR in generation 1 of 5\n",
      "Template Eval Error: ValueError('Only gave one variable to VAR') in model 125: VAR\n",
      "Model Number: 126 with model VECM in generation 1 of 5\n",
      "Template Eval Error: ValueError('Only gave one variable to VECM') in model 126: VECM\n",
      "Model Number: 127 with model VECM in generation 1 of 5\n",
      "Template Eval Error: ValueError('Only gave one variable to VECM') in model 127: VECM\n",
      "Model Number: 128 with model VECM in generation 1 of 5\n",
      "Template Eval Error: ValueError('Only gave one variable to VECM') in model 128: VECM\n",
      "Model Number: 129 with model VECM in generation 1 of 5\n",
      "Template Eval Error: ValueError('Unable to coerce to Series, length must be 1: given 190') in model 129: VECM\n",
      "Model Number: 130 with model FBProphet in generation 1 of 5\n",
      "Template Eval Error: ImportError('Package fbprophet is required') in model 130: FBProphet\n",
      "Model Number: 131 with model FBProphet in generation 1 of 5\n",
      "Template Eval Error: ImportError('Package fbprophet is required') in model 131: FBProphet\n",
      "Model Number: 132 with model FBProphet in generation 1 of 5\n",
      "Template Eval Error: ImportError('Package fbprophet is required') in model 132: FBProphet\n",
      "Model Number: 133 with model FBProphet in generation 1 of 5\n",
      "Template Eval Error: ImportError('Package fbprophet is required') in model 133: FBProphet\n",
      "New Generation: 2 of 5\n",
      "Model Number: 134 with model RollingRegression in generation 2 of 5\n"
     ]
    },
    {
     "name": "stderr",
     "output_type": "stream",
     "text": [
      "/anaconda3/lib/python3.7/site-packages/autots/models/sklearn.py:376: VisibleDeprecationWarning: Creating an ndarray from ragged nested sequences (which is a list-or-tuple of lists-or-tuples-or ndarrays with different lengths or shapes) is deprecated. If you meant to do this, you must specify 'dtype=object' when creating the ndarray.\n",
      "  size=1,\n",
      "/anaconda3/lib/python3.7/site-packages/autots/models/sklearn.py:439: VisibleDeprecationWarning: Creating an ndarray from ragged nested sequences (which is a list-or-tuple of lists-or-tuples-or ndarrays with different lengths or shapes) is deprecated. If you meant to do this, you must specify 'dtype=object' when creating the ndarray.\n",
      "  size=1,\n"
     ]
    },
    {
     "name": "stdout",
     "output_type": "stream",
     "text": [
      "Template Eval Error: ValueError(\"Input contains NaN, infinity or a value too large for dtype('float64').\") in model 134: RollingRegression\n",
      "Model Number: 135 with model RollingRegression in generation 2 of 5\n",
      "Model Number: 136 with model RollingRegression in generation 2 of 5\n",
      "Template Eval Error: ValueError(\"Input contains NaN, infinity or a value too large for dtype('float64').\") in model 136: RollingRegression\n",
      "Model Number: 137 with model RollingRegression in generation 2 of 5\n",
      "Template Eval Error: ValueError('Unable to coerce to Series, length must be 1: given 190') in model 137: RollingRegression\n",
      "Model Number: 138 with model LastValueNaive in generation 2 of 5\n",
      "Model Number: 139 with model LastValueNaive in generation 2 of 5\n",
      "Model Number: 140 with model LastValueNaive in generation 2 of 5\n",
      "Model Number: 141 with model DatepartRegression in generation 2 of 5\n",
      "Template Eval Error: ModuleNotFoundError(\"No module named 'lightgbm'\") in model 141: DatepartRegression\n",
      "Model Number: 142 with model DatepartRegression in generation 2 of 5\n",
      "Model Number: 143 with model DatepartRegression in generation 2 of 5\n",
      "Model Number: 144 with model SeasonalNaive in generation 2 of 5\n",
      "Model Number: 145 with model SeasonalNaive in generation 2 of 5\n",
      "Model Number: 146 with model SeasonalNaive in generation 2 of 5\n",
      "Model Number: 147 with model SeasonalNaive in generation 2 of 5\n",
      "Model Number: 148 with model GLM in generation 2 of 5\n",
      "Model Number: 149 with model GLM in generation 2 of 5\n",
      "Template Eval Error: ValueError('The first guess on the deviance function returned a nan.  This could be a boundary  problem and should be reported.') in model 149: GLM\n",
      "Model Number: 150 with model GLM in generation 2 of 5\n"
     ]
    },
    {
     "name": "stderr",
     "output_type": "stream",
     "text": [
      "/anaconda3/lib/python3.7/site-packages/statsmodels/genmod/families/family.py:1230: RuntimeWarning: invalid value encountered in log\n",
      "  resid_dev -= endog_alpha * np.log(endog_alpha / mu_alpha)\n",
      "/anaconda3/lib/python3.7/site-packages/statsmodels/genmod/families/family.py:1230: RuntimeWarning: invalid value encountered in log\n",
      "  resid_dev -= endog_alpha * np.log(endog_alpha / mu_alpha)\n"
     ]
    },
    {
     "name": "stdout",
     "output_type": "stream",
     "text": [
      "Template Eval Error: ValueError('The first guess on the deviance function returned a nan.  This could be a boundary  problem and should be reported.') in model 150: GLM\n",
      "Model Number: 151 with model GLM in generation 2 of 5\n",
      "Model Number: 152 with model AverageValueNaive in generation 2 of 5\n",
      "Model Number: 153 with model AverageValueNaive in generation 2 of 5\n",
      "Model Number: 154 with model AverageValueNaive in generation 2 of 5\n",
      "Model Number: 155 with model UnobservedComponents in generation 2 of 5\n",
      "Model Number: 156 with model UnobservedComponents in generation 2 of 5\n",
      "Model Number: 157 with model UnobservedComponents in generation 2 of 5\n",
      "Model Number: 158 with model ETS in generation 2 of 5\n"
     ]
    },
    {
     "name": "stderr",
     "output_type": "stream",
     "text": [
      "/anaconda3/lib/python3.7/site-packages/statsmodels/tsa/holtwinters/model.py:429: FutureWarning: After 0.13 initialization must be handled at model creation\n",
      "  FutureWarning,\n",
      "/anaconda3/lib/python3.7/site-packages/statsmodels/tsa/holtwinters/model.py:429: FutureWarning: After 0.13 initialization must be handled at model creation\n",
      "  FutureWarning,\n"
     ]
    },
    {
     "name": "stdout",
     "output_type": "stream",
     "text": [
      "Model Number: 159 with model ETS in generation 2 of 5\n",
      "Model Number: 160 with model ETS in generation 2 of 5\n",
      "Model Number: 161 with model ETS in generation 2 of 5\n"
     ]
    },
    {
     "name": "stderr",
     "output_type": "stream",
     "text": [
      "/anaconda3/lib/python3.7/site-packages/autots/models/statsmodels.py:518: FutureWarning: the 'damped'' keyword is deprecated, use 'damped_trend' instead\n",
      "  freq=args['freq'],\n",
      "/anaconda3/lib/python3.7/site-packages/statsmodels/tsa/holtwinters/model.py:429: FutureWarning: After 0.13 initialization must be handled at model creation\n",
      "  FutureWarning,\n"
     ]
    },
    {
     "name": "stdout",
     "output_type": "stream",
     "text": [
      "Model Number: 162 with model GLS in generation 2 of 5\n",
      "Model Number: 163 with model GLS in generation 2 of 5\n",
      "Model Number: 164 with model GLS in generation 2 of 5\n",
      "Model Number: 165 with model ZeroesNaive in generation 2 of 5\n",
      "Model Number: 166 with model ZeroesNaive in generation 2 of 5\n",
      "Model Number: 167 with model ZeroesNaive in generation 2 of 5\n",
      "Model Number: 168 with model WindowRegression in generation 2 of 5\n"
     ]
    },
    {
     "name": "stderr",
     "output_type": "stream",
     "text": [
      "/anaconda3/lib/python3.7/site-packages/sklearn/utils/validation.py:63: DataConversionWarning: A column-vector y was passed when a 1d array was expected. Please change the shape of y to (n_samples, ), for example using ravel().\n",
      "  return f(*args, **kwargs)\n"
     ]
    },
    {
     "name": "stdout",
     "output_type": "stream",
     "text": [
      "Model Number: 169 with model WindowRegression in generation 2 of 5\n",
      "Template Eval Error: ImportError('Tensorflow not available, install with pip install tensorflow.') in model 169: WindowRegression\n",
      "Model Number: 170 with model WindowRegression in generation 2 of 5\n"
     ]
    },
    {
     "name": "stderr",
     "output_type": "stream",
     "text": [
      "/anaconda3/lib/python3.7/site-packages/sklearn/utils/validation.py:63: DataConversionWarning: A column-vector y was passed when a 1d array was expected. Please change the shape of y to (n_samples, ), for example using ravel().\n",
      "  return f(*args, **kwargs)\n"
     ]
    },
    {
     "name": "stdout",
     "output_type": "stream",
     "text": [
      "Model Number: 171 with model WindowRegression in generation 2 of 5\n"
     ]
    },
    {
     "name": "stderr",
     "output_type": "stream",
     "text": [
      "/anaconda3/lib/python3.7/site-packages/sklearn/utils/validation.py:63: DataConversionWarning: A column-vector y was passed when a 1d array was expected. Please change the shape of y to (n_samples, ), for example using ravel().\n",
      "  return f(*args, **kwargs)\n"
     ]
    },
    {
     "name": "stdout",
     "output_type": "stream",
     "text": [
      "Model Number: 172 with model GluonTS in generation 2 of 5\n",
      "Template Eval Error: ImportError('GluonTS installation not found or installed version is incompatible with AutoTS.') in model 172: GluonTS\n",
      "Model Number: 173 with model GluonTS in generation 2 of 5\n",
      "Template Eval Error: ImportError('GluonTS installation not found or installed version is incompatible with AutoTS.') in model 173: GluonTS\n",
      "Model Number: 174 with model GluonTS in generation 2 of 5\n",
      "Template Eval Error: ImportError('GluonTS installation not found or installed version is incompatible with AutoTS.') in model 174: GluonTS\n",
      "Model Number: 175 with model GluonTS in generation 2 of 5\n",
      "Template Eval Error: ImportError('GluonTS installation not found or installed version is incompatible with AutoTS.') in model 175: GluonTS\n",
      "Model Number: 176 with model VAR in generation 2 of 5\n",
      "Template Eval Error: ValueError('Only gave one variable to VAR') in model 176: VAR\n",
      "Model Number: 177 with model VAR in generation 2 of 5\n",
      "Template Eval Error: ValueError('Only gave one variable to VAR') in model 177: VAR\n",
      "Model Number: 178 with model VAR in generation 2 of 5\n",
      "Template Eval Error: ValueError('Only gave one variable to VAR') in model 178: VAR\n",
      "Model Number: 179 with model VAR in generation 2 of 5\n",
      "Template Eval Error: ValueError('Only gave one variable to VAR') in model 179: VAR\n",
      "Model Number: 180 with model VECM in generation 2 of 5"
     ]
    },
    {
     "name": "stderr",
     "output_type": "stream",
     "text": [
      "/anaconda3/lib/python3.7/site-packages/scipy/optimize/minpack.py:829: OptimizeWarning: Covariance of the parameters could not be estimated\n",
      "  category=OptimizeWarning)\n"
     ]
    },
    {
     "name": "stdout",
     "output_type": "stream",
     "text": [
      "\n",
      "Template Eval Error: ValueError('Only gave one variable to VECM') in model 180: VECM\n",
      "Model Number: 181 with model VECM in generation 2 of 5\n",
      "Template Eval Error: ValueError('Unable to coerce to Series, length must be 1: given 190') in model 181: VECM\n",
      "Model Number: 182 with model VECM in generation 2 of 5\n",
      "Template Eval Error: ValueError('Unable to coerce to Series, length must be 1: given 190') in model 182: VECM\n",
      "Model Number: 183 with model VECM in generation 2 of 5\n",
      "Template Eval Error: ValueError('Only gave one variable to VECM') in model 183: VECM\n",
      "Model Number: 184 with model FBProphet in generation 2 of 5\n",
      "Template Eval Error: ImportError('Package fbprophet is required') in model 184: FBProphet\n",
      "Model Number: 185 with model FBProphet in generation 2 of 5\n",
      "Template Eval Error: ImportError('Package fbprophet is required') in model 185: FBProphet\n",
      "Model Number: 186 with model FBProphet in generation 2 of 5\n",
      "Template Eval Error: ImportError('Package fbprophet is required') in model 186: FBProphet\n",
      "Model Number: 187 with model FBProphet in generation 2 of 5\n",
      "Template Eval Error: ImportError('Package fbprophet is required') in model 187: FBProphet\n",
      "New Generation: 3 of 5\n",
      "Model Number: 188 with model LastValueNaive in generation 3 of 5\n",
      "Model Number: 189 with model LastValueNaive in generation 3 of 5\n",
      "Model Number: 190 with model LastValueNaive in generation 3 of 5\n",
      "Model Number: 191 with model GLS in generation 3 of 5\n",
      "Model Number: 192 with model GLS in generation 3 of 5\n",
      "Model Number: 193 with model GLS in generation 3 of 5\n",
      "Model Number: 194 with model RollingRegression in generation 3 of 5\n",
      "Model Number: 195 with model RollingRegression in generation 3 of 5\n"
     ]
    },
    {
     "name": "stderr",
     "output_type": "stream",
     "text": [
      "/anaconda3/lib/python3.7/site-packages/sklearn/utils/validation.py:63: DataConversionWarning: A column-vector y was passed when a 1d array was expected. Please change the shape of y to (n_samples, ), for example using ravel().\n",
      "  return f(*args, **kwargs)\n"
     ]
    },
    {
     "name": "stdout",
     "output_type": "stream",
     "text": [
      "Model Number: 196 with model RollingRegression in generation 3 of 5\n",
      "Model Number: 197 with model RollingRegression in generation 3 of 5\n",
      "Model Number: 198 with model DatepartRegression in generation 3 of 5\n",
      "Model Number: 199 with model DatepartRegression in generation 3 of 5\n",
      "Template Eval Error: ModuleNotFoundError(\"No module named 'lightgbm'\") in model 199: DatepartRegression\n",
      "Model Number: 200 with model DatepartRegression in generation 3 of 5\n",
      "Template Eval Error: ModuleNotFoundError(\"No module named 'lightgbm'\") in model 200: DatepartRegression\n",
      "Model Number: 201 with model SeasonalNaive in generation 3 of 5\n",
      "Model Number: 202 with model SeasonalNaive in generation 3 of 5\n",
      "Model Number: 203 with model SeasonalNaive in generation 3 of 5\n",
      "Model Number: 204 with model SeasonalNaive in generation 3 of 5\n",
      "Model Number: 205 with model WindowRegression in generation 3 of 5\n",
      "Model Number: 206 with model WindowRegression in generation 3 of 5\n",
      "Template Eval Error: ValueError(\"Input contains NaN, infinity or a value too large for dtype('float32').\") in model 206: WindowRegression\n",
      "Model Number: 207 with model WindowRegression in generation 3 of 5\n"
     ]
    },
    {
     "name": "stderr",
     "output_type": "stream",
     "text": [
      "/anaconda3/lib/python3.7/site-packages/sklearn/neural_network/_multilayer_perceptron.py:500: ConvergenceWarning: lbfgs failed to converge (status=1):\n",
      "STOP: TOTAL NO. of ITERATIONS REACHED LIMIT.\n",
      "\n",
      "Increase the number of iterations (max_iter) or scale the data as shown in:\n",
      "    https://scikit-learn.org/stable/modules/preprocessing.html\n",
      "  self.n_iter_ = _check_optimize_result(\"lbfgs\", opt_res, self.max_iter)\n"
     ]
    },
    {
     "name": "stdout",
     "output_type": "stream",
     "text": [
      "Model Number: 208 with model WindowRegression in generation 3 of 5\n",
      "Model Number: 209 with model GLM in generation 3 of 5\n",
      "Template Eval Error: ValueError('Unable to coerce to Series, length must be 1: given 190') in model 209: GLM\n",
      "Model Number: 210 with model GLM in generation 3 of 5\n",
      "Model Number: 211 with model GLM in generation 3 of 5\n",
      "Template Eval Error: ValueError('Unable to coerce to Series, length must be 1: given 190') in model 211: GLM\n",
      "Model Number: 212 with model GLM in generation 3 of 5\n",
      "Model Number: 213 with model ZeroesNaive in generation 3 of 5\n",
      "Model Number: 214 with model ZeroesNaive in generation 3 of 5\n",
      "Model Number: 215 with model AverageValueNaive in generation 3 of 5\n",
      "Model Number: 216 with model AverageValueNaive in generation 3 of 5\n",
      "Model Number: 217 with model AverageValueNaive in generation 3 of 5\n",
      "Model Number: 218 with model UnobservedComponents in generation 3 of 5\n",
      "Model Number: 219 with model UnobservedComponents in generation 3 of 5\n",
      "Model Number: 220 with model UnobservedComponents in generation 3 of 5\n",
      "Model Number: 221 with model ETS in generation 3 of 5\n",
      "Model Number: 222 with model ETS in generation 3 of 5\n",
      "Model Number: 223 with model ETS in generation 3 of 5\n"
     ]
    },
    {
     "name": "stderr",
     "output_type": "stream",
     "text": [
      "/anaconda3/lib/python3.7/site-packages/statsmodels/tsa/holtwinters/model.py:429: FutureWarning: After 0.13 initialization must be handled at model creation\n",
      "  FutureWarning,\n",
      "/anaconda3/lib/python3.7/site-packages/autots/models/statsmodels.py:518: FutureWarning: the 'damped'' keyword is deprecated, use 'damped_trend' instead\n",
      "  freq=args['freq'],\n",
      "/anaconda3/lib/python3.7/site-packages/autots/models/statsmodels.py:518: FutureWarning: the 'damped'' keyword is deprecated, use 'damped_trend' instead\n",
      "  freq=args['freq'],\n",
      "/anaconda3/lib/python3.7/site-packages/statsmodels/tsa/holtwinters/model.py:429: FutureWarning: After 0.13 initialization must be handled at model creation\n",
      "  FutureWarning,\n"
     ]
    },
    {
     "name": "stdout",
     "output_type": "stream",
     "text": [
      "Model Number: 224 with model ETS in generation 3 of 5\n",
      "Model Number: 225 with model GluonTS in generation 3 of 5\n",
      "Template Eval Error: ImportError('GluonTS installation not found or installed version is incompatible with AutoTS.') in model 225: GluonTS\n",
      "Model Number: 226 with model GluonTS in generation 3 of 5\n",
      "Template Eval Error: ImportError('GluonTS installation not found or installed version is incompatible with AutoTS.') in model 226: GluonTS\n",
      "Model Number: 227 with model GluonTS in generation 3 of 5\n",
      "Template Eval Error: ImportError('GluonTS installation not found or installed version is incompatible with AutoTS.') in model 227: GluonTS\n",
      "Model Number: 228 with model GluonTS in generation 3 of 5\n",
      "Template Eval Error: ImportError('GluonTS installation not found or installed version is incompatible with AutoTS.') in model 228: GluonTS\n",
      "Model Number: 229 with model VAR in generation 3 of 5\n",
      "Template Eval Error: ValueError('Only gave one variable to VAR') in model 229: VAR\n",
      "Model Number: 230 with model VAR in generation 3 of 5\n",
      "Template Eval Error: ValueError('Only gave one variable to VAR') in model 230: VAR\n",
      "Model Number: 231 with model VAR in generation 3 of 5\n",
      "Template Eval Error: ValueError('Only gave one variable to VAR') in model 231: VAR\n",
      "Model Number: 232 with model VAR in generation 3 of 5\n",
      "Template Eval Error: ValueError('Only gave one variable to VAR') in model 232: VAR\n",
      "Model Number: 233 with model VECM in generation 3 of 5\n",
      "Template Eval Error: ValueError('Only gave one variable to VECM') in model 233: VECM\n",
      "Model Number: 234 with model VECM in generation 3 of 5\n",
      "Template Eval Error: ValueError('Only gave one variable to VECM') in model 234: VECM\n",
      "Model Number: 235 with model VECM in generation 3 of 5\n",
      "Template Eval Error: ValueError('Only gave one variable to VECM') in model 235: VECM\n",
      "Model Number: 236 with model VECM in generation 3 of 5\n",
      "Template Eval Error: ValueError('Only gave one variable to VECM') in model 236: VECM\n",
      "Model Number: 237 with model FBProphet in generation 3 of 5\n",
      "Template Eval Error: ImportError('Package fbprophet is required') in model 237: FBProphet\n",
      "Model Number: 238 with model FBProphet in generation 3 of 5\n",
      "Template Eval Error: ImportError('Package fbprophet is required') in model 238: FBProphet\n",
      "Model Number: 239 with model FBProphet in generation 3 of 5\n",
      "Template Eval Error: ImportError('Package fbprophet is required') in model 239: FBProphet\n",
      "Model Number: 240 with model FBProphet in generation 3 of 5\n",
      "Template Eval Error: ImportError('Package fbprophet is required') in model 240: FBProphet\n",
      "New Generation: 4 of 5\n"
     ]
    },
    {
     "name": "stderr",
     "output_type": "stream",
     "text": [
      "/anaconda3/lib/python3.7/site-packages/autots/models/sklearn.py:376: VisibleDeprecationWarning: Creating an ndarray from ragged nested sequences (which is a list-or-tuple of lists-or-tuples-or ndarrays with different lengths or shapes) is deprecated. If you meant to do this, you must specify 'dtype=object' when creating the ndarray.\n",
      "  size=1,\n",
      "/anaconda3/lib/python3.7/site-packages/autots/models/sklearn.py:439: VisibleDeprecationWarning: Creating an ndarray from ragged nested sequences (which is a list-or-tuple of lists-or-tuples-or ndarrays with different lengths or shapes) is deprecated. If you meant to do this, you must specify 'dtype=object' when creating the ndarray.\n",
      "  size=1,\n"
     ]
    },
    {
     "name": "stdout",
     "output_type": "stream",
     "text": [
      "Model Number: 241 with model LastValueNaive in generation 4 of 5\n",
      "Model Number: 242 with model LastValueNaive in generation 4 of 5\n",
      "Model Number: 243 with model LastValueNaive in generation 4 of 5\n",
      "Model Number: 244 with model RollingRegression in generation 4 of 5\n",
      "Model Number: 245 with model RollingRegression in generation 4 of 5\n"
     ]
    },
    {
     "name": "stderr",
     "output_type": "stream",
     "text": [
      "/anaconda3/lib/python3.7/site-packages/sklearn/utils/validation.py:63: DataConversionWarning: A column-vector y was passed when a 1d array was expected. Please change the shape of y to (n_samples, ), for example using ravel().\n",
      "  return f(*args, **kwargs)\n"
     ]
    },
    {
     "name": "stdout",
     "output_type": "stream",
     "text": [
      "Model Number: 246 with model RollingRegression in generation 4 of 5\n",
      "Model Number: 247 with model RollingRegression in generation 4 of 5\n",
      "Template Eval Error: ValueError('Unable to coerce to Series, length must be 1: given 190') in model 247: RollingRegression\n",
      "Model Number: 248 with model GLS in generation 4 of 5\n",
      "Model Number: 249 with model GLS in generation 4 of 5\n",
      "Model Number: 250 with model GLS in generation 4 of 5\n",
      "Model Number: 251 with model DatepartRegression in generation 4 of 5\n",
      "Template Eval Error: ValueError('Unable to coerce to Series, length must be 1: given 190') in model 251: DatepartRegression\n",
      "Model Number: 252 with model DatepartRegression in generation 4 of 5\n"
     ]
    },
    {
     "name": "stderr",
     "output_type": "stream",
     "text": [
      "/anaconda3/lib/python3.7/site-packages/sklearn/utils/validation.py:63: DataConversionWarning: A column-vector y was passed when a 1d array was expected. Please change the shape of y to (n_samples, ), for example using ravel().\n",
      "  return f(*args, **kwargs)\n",
      "/anaconda3/lib/python3.7/site-packages/sklearn/neural_network/_multilayer_perceptron.py:500: ConvergenceWarning: lbfgs failed to converge (status=1):\n",
      "STOP: TOTAL NO. of ITERATIONS REACHED LIMIT.\n",
      "\n",
      "Increase the number of iterations (max_iter) or scale the data as shown in:\n",
      "    https://scikit-learn.org/stable/modules/preprocessing.html\n",
      "  self.n_iter_ = _check_optimize_result(\"lbfgs\", opt_res, self.max_iter)\n"
     ]
    },
    {
     "name": "stdout",
     "output_type": "stream",
     "text": [
      "Model Number: 253 with model DatepartRegression in generation 4 of 5\n",
      "Model Number: 254 with model SeasonalNaive in generation 4 of 5\n",
      "Model Number: 255 with model SeasonalNaive in generation 4 of 5\n",
      "Model Number: 256 with model SeasonalNaive in generation 4 of 5\n",
      "Model Number: 257 with model SeasonalNaive in generation 4 of 5\n",
      "Model Number: 258 with model WindowRegression in generation 4 of 5\n"
     ]
    },
    {
     "name": "stderr",
     "output_type": "stream",
     "text": [
      "/anaconda3/lib/python3.7/site-packages/sklearn/utils/validation.py:63: DataConversionWarning: A column-vector y was passed when a 1d array was expected. Please change the shape of y to (n_samples, ), for example using ravel().\n",
      "  return f(*args, **kwargs)\n",
      "/anaconda3/lib/python3.7/site-packages/sklearn/neural_network/_multilayer_perceptron.py:500: ConvergenceWarning: lbfgs failed to converge (status=1):\n",
      "STOP: TOTAL NO. of ITERATIONS REACHED LIMIT.\n",
      "\n",
      "Increase the number of iterations (max_iter) or scale the data as shown in:\n",
      "    https://scikit-learn.org/stable/modules/preprocessing.html\n",
      "  self.n_iter_ = _check_optimize_result(\"lbfgs\", opt_res, self.max_iter)\n"
     ]
    },
    {
     "name": "stdout",
     "output_type": "stream",
     "text": [
      "Template Eval Error: ValueError(\"Input contains NaN, infinity or a value too large for dtype('float64').\") in model 258: WindowRegression\n",
      "Model Number: 259 with model WindowRegression in generation 4 of 5\n",
      "Template Eval Error: ModuleNotFoundError(\"No module named 'lightgbm'\") in model 259: WindowRegression\n",
      "Model Number: 260 with model WindowRegression in generation 4 of 5\n",
      "Template Eval Error: ValueError(\"Input contains NaN, infinity or a value too large for dtype('float32').\") in model 260: WindowRegression\n",
      "Model Number: 261 with model WindowRegression in generation 4 of 5\n",
      "Model Number: 262 with model GLM in generation 4 of 5\n",
      "Model Number: 263 with model GLM in generation 4 of 5\n"
     ]
    },
    {
     "name": "stderr",
     "output_type": "stream",
     "text": [
      "/anaconda3/lib/python3.7/site-packages/statsmodels/genmod/generalized_linear_model.py:296: DomainWarning: The inverse_power link function does not respect the domain of the Gamma family.\n",
      "  DomainWarning)\n"
     ]
    },
    {
     "name": "stdout",
     "output_type": "stream",
     "text": [
      "Model Number: 264 with model GLM in generation 4 of 5\n"
     ]
    },
    {
     "name": "stderr",
     "output_type": "stream",
     "text": [
      "/anaconda3/lib/python3.7/site-packages/scipy/optimize/minpack.py:829: OptimizeWarning: Covariance of the parameters could not be estimated\n",
      "  category=OptimizeWarning)\n"
     ]
    },
    {
     "name": "stdout",
     "output_type": "stream",
     "text": [
      "Model Number: 265 with model GLM in generation 4 of 5\n"
     ]
    },
    {
     "name": "stderr",
     "output_type": "stream",
     "text": [
      "/anaconda3/lib/python3.7/site-packages/statsmodels/genmod/generalized_linear_model.py:296: DomainWarning: The inverse_power link function does not respect the domain of the Gamma family.\n",
      "  DomainWarning)\n"
     ]
    },
    {
     "name": "stdout",
     "output_type": "stream",
     "text": [
      "Model Number: 266 with model ZeroesNaive in generation 4 of 5\n",
      "Model Number: 267 with model ZeroesNaive in generation 4 of 5\n",
      "Model Number: 268 with model ZeroesNaive in generation 4 of 5\n",
      "Model Number: 269 with model AverageValueNaive in generation 4 of 5\n",
      "Model Number: 270 with model AverageValueNaive in generation 4 of 5\n",
      "Model Number: 271 with model AverageValueNaive in generation 4 of 5\n",
      "Model Number: 272 with model UnobservedComponents in generation 4 of 5\n",
      "Model Number: 273 with model UnobservedComponents in generation 4 of 5\n",
      "Model Number: 274 with model UnobservedComponents in generation 4 of 5\n",
      "Model Number: 275 with model ETS in generation 4 of 5\n"
     ]
    },
    {
     "name": "stderr",
     "output_type": "stream",
     "text": [
      "/anaconda3/lib/python3.7/site-packages/statsmodels/tsa/holtwinters/model.py:429: FutureWarning: After 0.13 initialization must be handled at model creation\n",
      "  FutureWarning,\n",
      "/anaconda3/lib/python3.7/site-packages/statsmodels/tsa/holtwinters/model.py:429: FutureWarning: After 0.13 initialization must be handled at model creation\n",
      "  FutureWarning,\n",
      "/anaconda3/lib/python3.7/site-packages/statsmodels/tsa/holtwinters/model.py:429: FutureWarning: After 0.13 initialization must be handled at model creation\n",
      "  FutureWarning,\n"
     ]
    },
    {
     "name": "stdout",
     "output_type": "stream",
     "text": [
      "Template Eval Error: ValueError('Cannot convert non-finite values (NA or inf) to integer') in model 275: ETS\n",
      "Model Number: 276 with model ETS in generation 4 of 5\n",
      "Model Number: 277 with model ETS in generation 4 of 5\n",
      "Model Number: 278 with model ETS in generation 4 of 5\n",
      "Template Eval Error: ValueError('Cannot convert non-finite values (NA or inf) to integer') in model 278: ETS\n",
      "Model Number: 279 with model GluonTS in generation 4 of 5\n",
      "Template Eval Error: ImportError('GluonTS installation not found or installed version is incompatible with AutoTS.') in model 279: GluonTS\n",
      "Model Number: 280 with model GluonTS in generation 4 of 5\n",
      "Template Eval Error: ImportError('GluonTS installation not found or installed version is incompatible with AutoTS.') in model 280: GluonTS\n",
      "Model Number: 281 with model GluonTS in generation 4 of 5\n"
     ]
    },
    {
     "name": "stderr",
     "output_type": "stream",
     "text": [
      "/anaconda3/lib/python3.7/site-packages/statsmodels/tsa/holtwinters/model.py:429: FutureWarning: After 0.13 initialization must be handled at model creation\n",
      "  FutureWarning,\n",
      "/anaconda3/lib/python3.7/site-packages/scipy/optimize/minpack.py:829: OptimizeWarning: Covariance of the parameters could not be estimated\n",
      "  category=OptimizeWarning)\n"
     ]
    },
    {
     "name": "stdout",
     "output_type": "stream",
     "text": [
      "Template Eval Error: ImportError('GluonTS installation not found or installed version is incompatible with AutoTS.') in model 281: GluonTS\n",
      "Model Number: 282 with model GluonTS in generation 4 of 5\n",
      "Template Eval Error: ImportError('GluonTS installation not found or installed version is incompatible with AutoTS.') in model 282: GluonTS\n",
      "Model Number: 283 with model VAR in generation 4 of 5\n",
      "Template Eval Error: ValueError('Only gave one variable to VAR') in model 283: VAR\n",
      "Model Number: 284 with model VAR in generation 4 of 5\n",
      "Template Eval Error: ValueError('Only gave one variable to VAR') in model 284: VAR\n",
      "Model Number: 285 with model VAR in generation 4 of 5\n",
      "Template Eval Error: ValueError('Only gave one variable to VAR') in model 285: VAR\n",
      "Model Number: 286 with model VAR in generation 4 of 5\n"
     ]
    },
    {
     "name": "stderr",
     "output_type": "stream",
     "text": [
      "/anaconda3/lib/python3.7/site-packages/numpy/lib/nanfunctions.py:1370: RuntimeWarning: All-NaN slice encountered\n",
      "  overwrite_input=overwrite_input, interpolation=interpolation\n",
      "/anaconda3/lib/python3.7/site-packages/sklearn/preprocessing/_data.py:400: RuntimeWarning: All-NaN slice encountered\n",
      "  data_min = np.nanmin(X, axis=0)\n",
      "/anaconda3/lib/python3.7/site-packages/sklearn/preprocessing/_data.py:401: RuntimeWarning: All-NaN slice encountered\n",
      "  data_max = np.nanmax(X, axis=0)\n"
     ]
    },
    {
     "name": "stdout",
     "output_type": "stream",
     "text": [
      "Template Eval Error: ValueError('Length mismatch: Expected axis has 191 elements, new values have 1 elements') in model 286: VAR\n",
      "Model Number: 287 with model VECM in generation 4 of 5\n",
      "Template Eval Error: ValueError('Only gave one variable to VECM') in model 287: VECM\n",
      "Model Number: 288 with model VECM in generation 4 of 5\n",
      "Template Eval Error: ValueError('Length mismatch: Expected axis has 191 elements, new values have 1 elements') in model 288: VECM\n",
      "Model Number: 289 with model VECM in generation 4 of 5\n",
      "Template Eval Error: ValueError(\"Input contains NaN, infinity or a value too large for dtype('float64').\") in model 289: VECM\n",
      "Model Number: 290 with model VECM in generation 4 of 5\n",
      "Template Eval Error: ValueError('Only gave one variable to VECM') in model 290: VECM\n",
      "Model Number: 291 with model FBProphet in generation 4 of 5\n",
      "Template Eval Error: ImportError('Package fbprophet is required') in model 291: FBProphet\n",
      "Model Number: 292 with model FBProphet in generation 4 of 5\n",
      "Template Eval Error: ImportError('Package fbprophet is required') in model 292: FBProphet\n",
      "Model Number: 293 with model FBProphet in generation 4 of 5\n",
      "Template Eval Error: ImportError('Package fbprophet is required') in model 293: FBProphet\n",
      "Model Number: 294 with model FBProphet in generation 4 of 5\n",
      "Template Eval Error: ImportError('Package fbprophet is required') in model 294: FBProphet\n",
      "New Generation: 5 of 5\n",
      "Model Number: 295 with model LastValueNaive in generation 5 of 5\n",
      "Model Number: 296 with model LastValueNaive in generation 5 of 5\n"
     ]
    },
    {
     "name": "stderr",
     "output_type": "stream",
     "text": [
      "/anaconda3/lib/python3.7/site-packages/autots/models/sklearn.py:376: VisibleDeprecationWarning: Creating an ndarray from ragged nested sequences (which is a list-or-tuple of lists-or-tuples-or ndarrays with different lengths or shapes) is deprecated. If you meant to do this, you must specify 'dtype=object' when creating the ndarray.\n",
      "  size=1,\n",
      "/anaconda3/lib/python3.7/site-packages/autots/models/sklearn.py:439: VisibleDeprecationWarning: Creating an ndarray from ragged nested sequences (which is a list-or-tuple of lists-or-tuples-or ndarrays with different lengths or shapes) is deprecated. If you meant to do this, you must specify 'dtype=object' when creating the ndarray.\n",
      "  size=1,\n"
     ]
    },
    {
     "name": "stdout",
     "output_type": "stream",
     "text": [
      "Model Number: 297 with model RollingRegression in generation 5 of 5\n"
     ]
    },
    {
     "name": "stderr",
     "output_type": "stream",
     "text": [
      "/anaconda3/lib/python3.7/site-packages/sklearn/utils/validation.py:63: DataConversionWarning: A column-vector y was passed when a 1d array was expected. Please change the shape of y to (n_samples, ), for example using ravel().\n",
      "  return f(*args, **kwargs)\n"
     ]
    },
    {
     "name": "stdout",
     "output_type": "stream",
     "text": [
      "Model Number: 298 with model RollingRegression in generation 5 of 5\n"
     ]
    },
    {
     "name": "stderr",
     "output_type": "stream",
     "text": [
      "/anaconda3/lib/python3.7/site-packages/sklearn/preprocessing/_data.py:3237: RuntimeWarning: Degrees of freedom <= 0 for slice\n",
      "  loglike = -n_samples / 2 * np.log(x_trans.var())\n",
      "/anaconda3/lib/python3.7/site-packages/sklearn/utils/extmath.py:847: RuntimeWarning: invalid value encountered in true_divide\n",
      "  updated_mean = (last_sum + new_sum) / updated_sample_count\n",
      "/anaconda3/lib/python3.7/site-packages/sklearn/utils/extmath.py:689: RuntimeWarning: Degrees of freedom <= 0 for slice.\n",
      "  result = op(x, *args, **kwargs)\n"
     ]
    },
    {
     "name": "stdout",
     "output_type": "stream",
     "text": [
      "Template Eval Error: ValueError('Length mismatch: Expected axis has 191 elements, new values have 1 elements') in model 298: RollingRegression\n",
      "Model Number: 299 with model RollingRegression in generation 5 of 5\n",
      "Model Number: 300 with model RollingRegression in generation 5 of 5\n",
      "Model Number: 301 with model GLS in generation 5 of 5\n",
      "Model Number: 302 with model GLS in generation 5 of 5\n",
      "Model Number: 303 with model GLS in generation 5 of 5\n",
      "Model Number: 304 with model DatepartRegression in generation 5 of 5\n",
      "Model Number: 305 with model DatepartRegression in generation 5 of 5\n",
      "Template Eval Error: ImportError('Tensorflow not available, install with pip install tensorflow.') in model 305: DatepartRegression\n",
      "Model Number: 306 with model DatepartRegression in generation 5 of 5\n"
     ]
    },
    {
     "name": "stderr",
     "output_type": "stream",
     "text": [
      "/anaconda3/lib/python3.7/site-packages/scipy/optimize/minpack.py:829: OptimizeWarning: Covariance of the parameters could not be estimated\n",
      "  category=OptimizeWarning)\n"
     ]
    },
    {
     "name": "stdout",
     "output_type": "stream",
     "text": [
      "Model Number: 307 with model SeasonalNaive in generation 5 of 5\n",
      "Model Number: 308 with model SeasonalNaive in generation 5 of 5\n",
      "Model Number: 309 with model SeasonalNaive in generation 5 of 5\n",
      "Model Number: 310 with model WindowRegression in generation 5 of 5\n",
      "Template Eval Error: ValueError('Unable to coerce to Series, length must be 1: given 190') in model 310: WindowRegression\n",
      "Model Number: 311 with model WindowRegression in generation 5 of 5\n"
     ]
    },
    {
     "name": "stderr",
     "output_type": "stream",
     "text": [
      "/anaconda3/lib/python3.7/site-packages/sklearn/utils/validation.py:63: DataConversionWarning: A column-vector y was passed when a 1d array was expected. Please change the shape of y to (n_samples, ), for example using ravel().\n",
      "  return f(*args, **kwargs)\n"
     ]
    },
    {
     "name": "stdout",
     "output_type": "stream",
     "text": [
      "Model Number: 312 with model WindowRegression in generation 5 of 5\n",
      "Template Eval Error: ValueError(\"Input contains NaN, infinity or a value too large for dtype('float64').\") in model 312: WindowRegression\n",
      "Model Number: 313 with model WindowRegression in generation 5 of 5\n"
     ]
    },
    {
     "name": "stderr",
     "output_type": "stream",
     "text": [
      "/anaconda3/lib/python3.7/site-packages/sklearn/utils/validation.py:63: DataConversionWarning: A column-vector y was passed when a 1d array was expected. Please change the shape of y to (n_samples, ), for example using ravel().\n",
      "  return f(*args, **kwargs)\n",
      "/anaconda3/lib/python3.7/site-packages/sklearn/neural_network/_multilayer_perceptron.py:500: ConvergenceWarning: lbfgs failed to converge (status=1):\n",
      "STOP: TOTAL NO. of ITERATIONS REACHED LIMIT.\n",
      "\n",
      "Increase the number of iterations (max_iter) or scale the data as shown in:\n",
      "    https://scikit-learn.org/stable/modules/preprocessing.html\n",
      "  self.n_iter_ = _check_optimize_result(\"lbfgs\", opt_res, self.max_iter)\n",
      "/anaconda3/lib/python3.7/site-packages/scipy/optimize/minpack.py:829: OptimizeWarning: Covariance of the parameters could not be estimated\n",
      "  category=OptimizeWarning)\n",
      "/anaconda3/lib/python3.7/site-packages/scipy/optimize/minpack.py:829: OptimizeWarning: Covariance of the parameters could not be estimated\n",
      "  category=OptimizeWarning)\n",
      "/anaconda3/lib/python3.7/site-packages/statsmodels/genmod/generalized_linear_model.py:296: DomainWarning: The inverse_power link function does not respect the domain of the Gamma family.\n",
      "  DomainWarning)\n"
     ]
    },
    {
     "name": "stdout",
     "output_type": "stream",
     "text": [
      "Template Eval Error: ValueError(\"Input contains NaN, infinity or a value too large for dtype('float64').\") in model 313: WindowRegression\n",
      "Model Number: 314 with model GLM in generation 5 of 5\n",
      "Template Eval Error: ValueError('Unable to coerce to Series, length must be 1: given 190') in model 314: GLM\n",
      "Model Number: 315 with model GLM in generation 5 of 5\n",
      "Model Number: 316 with model GLM in generation 5 of 5\n"
     ]
    },
    {
     "name": "stderr",
     "output_type": "stream",
     "text": [
      "/anaconda3/lib/python3.7/site-packages/scipy/optimize/minpack.py:829: OptimizeWarning: Covariance of the parameters could not be estimated\n",
      "  category=OptimizeWarning)\n",
      "/anaconda3/lib/python3.7/site-packages/statsmodels/genmod/generalized_linear_model.py:296: DomainWarning: The inverse_power link function does not respect the domain of the Gamma family.\n",
      "  DomainWarning)\n",
      "/anaconda3/lib/python3.7/site-packages/statsmodels/genmod/families/family.py:1230: RuntimeWarning: invalid value encountered in log\n",
      "  resid_dev -= endog_alpha * np.log(endog_alpha / mu_alpha)\n"
     ]
    },
    {
     "name": "stdout",
     "output_type": "stream",
     "text": [
      "Model Number: 317 with model GLM in generation 5 of 5\n",
      "Template Eval Error: ValueError('The first guess on the deviance function returned a nan.  This could be a boundary  problem and should be reported.') in model 317: GLM\n",
      "Model Number: 318 with model ZeroesNaive in generation 5 of 5\n",
      "Model Number: 319 with model ZeroesNaive in generation 5 of 5\n",
      "Model Number: 320 with model ZeroesNaive in generation 5 of 5\n",
      "Model Number: 321 with model UnobservedComponents in generation 5 of 5\n",
      "Model Number: 322 with model UnobservedComponents in generation 5 of 5\n",
      "Template Eval Error: TypeError(\"delayed() got an unexpected keyword argument 'check_pickle'\") in model 322: UnobservedComponents\n",
      "Model Number: 323 with model UnobservedComponents in generation 5 of 5\n",
      "Model Number: 324 with model AverageValueNaive in generation 5 of 5\n",
      "Model Number: 325 with model AverageValueNaive in generation 5 of 5\n",
      "Model Number: 326 with model AverageValueNaive in generation 5 of 5\n",
      "Model Number: 327 with model ETS in generation 5 of 5\n"
     ]
    },
    {
     "name": "stderr",
     "output_type": "stream",
     "text": [
      "/anaconda3/lib/python3.7/site-packages/statsmodels/tsa/holtwinters/model.py:429: FutureWarning: After 0.13 initialization must be handled at model creation\n",
      "  FutureWarning,\n",
      "/anaconda3/lib/python3.7/site-packages/statsmodels/tsa/holtwinters/model.py:429: FutureWarning: After 0.13 initialization must be handled at model creation\n",
      "  FutureWarning,\n"
     ]
    },
    {
     "name": "stdout",
     "output_type": "stream",
     "text": [
      "Model Number: 328 with model ETS in generation 5 of 5\n",
      "Model Number: 329 with model ETS in generation 5 of 5\n"
     ]
    },
    {
     "name": "stderr",
     "output_type": "stream",
     "text": [
      "/anaconda3/lib/python3.7/site-packages/statsmodels/tsa/holtwinters/model.py:429: FutureWarning: After 0.13 initialization must be handled at model creation\n",
      "  FutureWarning,\n"
     ]
    },
    {
     "name": "stdout",
     "output_type": "stream",
     "text": [
      "Model Number: 330 with model GluonTS in generation 5 of 5\n",
      "Template Eval Error: ImportError('GluonTS installation not found or installed version is incompatible with AutoTS.') in model 330: GluonTS\n",
      "Model Number: 331 with model GluonTS in generation 5 of 5\n",
      "Template Eval Error: ImportError('GluonTS installation not found or installed version is incompatible with AutoTS.') in model 331: GluonTS\n",
      "Model Number: 332 with model GluonTS in generation 5 of 5\n",
      "Template Eval Error: ImportError('GluonTS installation not found or installed version is incompatible with AutoTS.') in model 332: GluonTS\n",
      "Model Number: 333 with model GluonTS in generation 5 of 5\n",
      "Template Eval Error: ValueError('Unable to coerce to Series, length must be 1: given 190') in model 333: GluonTS\n",
      "Model Number: 334 with model VAR in generation 5 of 5\n",
      "Template Eval Error: ValueError('Only gave one variable to VAR') in model 334: VAR\n",
      "Model Number: 335 with model VAR in generation 5 of 5\n",
      "Template Eval Error: ValueError('Only gave one variable to VAR') in model 335: VAR\n",
      "Model Number: 336 with model VAR in generation 5 of 5\n",
      "Template Eval Error: ValueError('Only gave one variable to VAR') in model 336: VAR\n",
      "Model Number: 337 with model VAR in generation 5 of 5\n",
      "Template Eval Error: ValueError('Only gave one variable to VAR') in model 337: VAR\n",
      "Model Number: 338 with model VECM in generation 5 of 5\n",
      "Template Eval Error: ValueError('Only gave one variable to VECM') in model 338: VECM\n",
      "Model Number: 339 with model VECM in generation 5 of 5\n",
      "Template Eval Error: ValueError('Only gave one variable to VECM') in model 339: VECM\n",
      "Model Number: 340 with model VECM in generation 5 of 5\n",
      "Template Eval Error: ValueError('Only gave one variable to VECM') in model 340: VECM\n",
      "Model Number: 341 with model VECM in generation 5 of 5\n",
      "Template Eval Error: ValueError('Only gave one variable to VECM') in model 341: VECM\n",
      "Model Number: 342 with model FBProphet in generation 5 of 5\n",
      "Template Eval Error: ImportError('Package fbprophet is required') in model 342: FBProphet\n",
      "Model Number: 343 with model FBProphet in generation 5 of 5\n",
      "Template Eval Error: ImportError('Package fbprophet is required') in model 343: FBProphet\n",
      "Model Number: 344 with model FBProphet in generation 5 of 5\n",
      "Template Eval Error: ImportError('Package fbprophet is required') in model 344: FBProphet\n",
      "Model Number: 345 with model FBProphet in generation 5 of 5\n",
      "Template Eval Error: ImportError('Package fbprophet is required') in model 345: FBProphet\n",
      "Model Number: 346 with model Ensemble in generation 0 of 0\n",
      "Model Number: 347 with model Ensemble in generation 0 of 0\n",
      "Model Number: 348 with model Ensemble in generation 0 of 0\n"
     ]
    },
    {
     "name": "stderr",
     "output_type": "stream",
     "text": [
      "/anaconda3/lib/python3.7/site-packages/statsmodels/tsa/holtwinters/model.py:429: FutureWarning: After 0.13 initialization must be handled at model creation\n",
      "  FutureWarning,\n"
     ]
    },
    {
     "name": "stdout",
     "output_type": "stream",
     "text": [
      "Validation Round: 1\n",
      "Model Number: 1 of 52 with model Ensemble for Validation 1\n",
      "Model Number: 2 of 52 with model Ensemble for Validation 1\n"
     ]
    },
    {
     "name": "stderr",
     "output_type": "stream",
     "text": [
      "/anaconda3/lib/python3.7/site-packages/statsmodels/tsa/holtwinters/model.py:429: FutureWarning: After 0.13 initialization must be handled at model creation\n",
      "  FutureWarning,\n"
     ]
    },
    {
     "name": "stdout",
     "output_type": "stream",
     "text": [
      "Model Number: 3 of 52 with model Ensemble for Validation 1\n",
      "Model Number: 4 of 52 with model LastValueNaive for Validation 1\n",
      "Model Number: 5 of 52 with model LastValueNaive for Validation 1\n",
      "Model Number: 6 of 52 with model RollingRegression for Validation 1\n",
      "Model Number: 7 of 52 with model RollingRegression for Validation 1\n",
      "Model Number: 8 of 52 with model RollingRegression for Validation 1\n",
      "Model Number: 9 of 52 with model RollingRegression for Validation 1\n",
      "Model Number: 10 of 52 with model ETS for Validation 1\n",
      "Model Number: 11 of 52 with model GLS for Validation 1\n"
     ]
    },
    {
     "name": "stderr",
     "output_type": "stream",
     "text": [
      "/anaconda3/lib/python3.7/site-packages/statsmodels/tsa/holtwinters/model.py:429: FutureWarning: After 0.13 initialization must be handled at model creation\n",
      "  FutureWarning,\n"
     ]
    },
    {
     "name": "stdout",
     "output_type": "stream",
     "text": [
      "Model Number: 12 of 52 with model ETS for Validation 1\n"
     ]
    },
    {
     "name": "stderr",
     "output_type": "stream",
     "text": [
      "/anaconda3/lib/python3.7/site-packages/statsmodels/tsa/holtwinters/model.py:429: FutureWarning: After 0.13 initialization must be handled at model creation\n",
      "  FutureWarning,\n"
     ]
    },
    {
     "name": "stdout",
     "output_type": "stream",
     "text": [
      "Model Number: 13 of 52 with model RollingRegression for Validation 1\n"
     ]
    },
    {
     "name": "stderr",
     "output_type": "stream",
     "text": [
      "/anaconda3/lib/python3.7/site-packages/sklearn/utils/validation.py:63: DataConversionWarning: A column-vector y was passed when a 1d array was expected. Please change the shape of y to (n_samples, ), for example using ravel().\n",
      "  return f(*args, **kwargs)\n"
     ]
    },
    {
     "name": "stdout",
     "output_type": "stream",
     "text": [
      "Model Number: 14 of 52 with model LastValueNaive for Validation 1\n",
      "Model Number: 15 of 52 with model LastValueNaive for Validation 1\n",
      "Model Number: 16 of 52 with model DatepartRegression for Validation 1\n",
      "Model Number: 17 of 52 with model SeasonalNaive for Validation 1\n",
      "Model Number: 18 of 52 with model WindowRegression for Validation 1\n"
     ]
    },
    {
     "name": "stderr",
     "output_type": "stream",
     "text": [
      "/anaconda3/lib/python3.7/site-packages/sklearn/utils/validation.py:63: DataConversionWarning: A column-vector y was passed when a 1d array was expected. Please change the shape of y to (n_samples, ), for example using ravel().\n",
      "  return f(*args, **kwargs)\n"
     ]
    },
    {
     "name": "stdout",
     "output_type": "stream",
     "text": [
      "Model Number: 19 of 52 with model SeasonalNaive for Validation 1\n",
      "Model Number: 20 of 52 with model WindowRegression for Validation 1\n"
     ]
    },
    {
     "name": "stderr",
     "output_type": "stream",
     "text": [
      "/anaconda3/lib/python3.7/site-packages/sklearn/utils/validation.py:63: DataConversionWarning: A column-vector y was passed when a 1d array was expected. Please change the shape of y to (n_samples, ), for example using ravel().\n",
      "  return f(*args, **kwargs)\n"
     ]
    },
    {
     "name": "stdout",
     "output_type": "stream",
     "text": [
      "Model Number: 21 of 52 with model LastValueNaive for Validation 1\n",
      "Model Number: 22 of 52 with model SeasonalNaive for Validation 1\n",
      "Model Number: 23 of 52 with model SeasonalNaive for Validation 1\n",
      "Model Number: 24 of 52 with model SeasonalNaive for Validation 1\n",
      "Model Number: 25 of 52 with model DatepartRegression for Validation 1\n",
      "Model Number: 26 of 52 with model DatepartRegression for Validation 1\n",
      "Model Number: 27 of 52 with model GLM for Validation 1\n",
      "Template Eval Error: ValueError('The first guess on the deviance function returned a nan.  This could be a boundary  problem and should be reported.') in model 27: GLM\n",
      "Model Number: 28 of 52 with model GLM for Validation 1\n",
      "Model Number: 29 of 52 with model GLM for Validation 1\n"
     ]
    },
    {
     "name": "stderr",
     "output_type": "stream",
     "text": [
      "/anaconda3/lib/python3.7/site-packages/scipy/optimize/minpack.py:829: OptimizeWarning: Covariance of the parameters could not be estimated\n",
      "  category=OptimizeWarning)\n",
      "/anaconda3/lib/python3.7/site-packages/statsmodels/genmod/families/family.py:1230: RuntimeWarning: invalid value encountered in log\n",
      "  resid_dev -= endog_alpha * np.log(endog_alpha / mu_alpha)\n",
      "/anaconda3/lib/python3.7/site-packages/scipy/optimize/minpack.py:829: OptimizeWarning: Covariance of the parameters could not be estimated\n",
      "  category=OptimizeWarning)\n",
      "/anaconda3/lib/python3.7/site-packages/scipy/optimize/minpack.py:829: OptimizeWarning: Covariance of the parameters could not be estimated\n",
      "  category=OptimizeWarning)\n",
      "/anaconda3/lib/python3.7/site-packages/statsmodels/genmod/generalized_linear_model.py:296: DomainWarning: The inverse_power link function does not respect the domain of the Gamma family.\n",
      "  DomainWarning)\n",
      "/anaconda3/lib/python3.7/site-packages/scipy/optimize/minpack.py:829: OptimizeWarning: Covariance of the parameters could not be estimated\n",
      "  category=OptimizeWarning)\n",
      "/anaconda3/lib/python3.7/site-packages/statsmodels/genmod/generalized_linear_model.py:296: DomainWarning: The inverse_power link function does not respect the domain of the Gamma family.\n",
      "  DomainWarning)\n"
     ]
    },
    {
     "name": "stdout",
     "output_type": "stream",
     "text": [
      "Model Number: 30 of 52 with model GLM for Validation 1\n",
      "Model Number: 31 of 52 with model ZeroesNaive for Validation 1\n",
      "Model Number: 32 of 52 with model ZeroesNaive for Validation 1\n",
      "Model Number: 33 of 52 with model ZeroesNaive for Validation 1\n",
      "Model Number: 34 of 52 with model UnobservedComponents for Validation 1\n",
      "Model Number: 35 of 52 with model AverageValueNaive for Validation 1\n",
      "Model Number: 36 of 52 with model GLM for Validation 1\n",
      "Model Number: 37 of 52 with model UnobservedComponents for Validation 1\n",
      "Model Number: 38 of 52 with model UnobservedComponents for Validation 1\n",
      "Model Number: 39 of 52 with model UnobservedComponents for Validation 1\n",
      "Model Number: 40 of 52 with model UnobservedComponents for Validation 1\n",
      "Model Number: 41 of 52 with model AverageValueNaive for Validation 1\n",
      "Model Number: 42 of 52 with model ETS for Validation 1\n"
     ]
    },
    {
     "name": "stderr",
     "output_type": "stream",
     "text": [
      "/anaconda3/lib/python3.7/site-packages/statsmodels/tsa/holtwinters/model.py:429: FutureWarning: After 0.13 initialization must be handled at model creation\n",
      "  FutureWarning,\n",
      "/anaconda3/lib/python3.7/site-packages/statsmodels/tsa/holtwinters/model.py:429: FutureWarning: After 0.13 initialization must be handled at model creation\n",
      "  FutureWarning,\n"
     ]
    },
    {
     "name": "stdout",
     "output_type": "stream",
     "text": [
      "Model Number: 43 of 52 with model ETS for Validation 1\n",
      "Model Number: 44 of 52 with model ETS for Validation 1\n"
     ]
    },
    {
     "name": "stderr",
     "output_type": "stream",
     "text": [
      "/anaconda3/lib/python3.7/site-packages/statsmodels/tsa/holtwinters/model.py:429: FutureWarning: After 0.13 initialization must be handled at model creation\n",
      "  FutureWarning,\n"
     ]
    },
    {
     "name": "stdout",
     "output_type": "stream",
     "text": [
      "Model Number: 45 of 52 with model WindowRegression for Validation 1\n",
      "Model Number: 46 of 52 with model AverageValueNaive for Validation 1\n",
      "Model Number: 47 of 52 with model GLS for Validation 1\n",
      "Model Number: 48 of 52 with model DatepartRegression for Validation 1\n",
      "Model Number: 49 of 52 with model DatepartRegression for Validation 1\n",
      "Model Number: 50 of 52 with model GLS for Validation 1\n",
      "Model Number: 51 of 52 with model GLS for Validation 1\n",
      "Model Number: 52 of 52 with model ZeroesNaive for Validation 1\n",
      "Validation Round: 2\n",
      "Model Number: 1 of 52 with model Ensemble for Validation 2\n",
      "Model Number: 2 of 52 with model Ensemble for Validation 2\n"
     ]
    },
    {
     "name": "stderr",
     "output_type": "stream",
     "text": [
      "/anaconda3/lib/python3.7/site-packages/statsmodels/tsa/holtwinters/model.py:429: FutureWarning: After 0.13 initialization must be handled at model creation\n",
      "  FutureWarning,\n"
     ]
    },
    {
     "name": "stdout",
     "output_type": "stream",
     "text": [
      "Model Number: 3 of 52 with model Ensemble for Validation 2\n",
      "Model Number: 4 of 52 with model LastValueNaive for Validation 2\n",
      "Model Number: 5 of 52 with model LastValueNaive for Validation 2\n",
      "Model Number: 6 of 52 with model RollingRegression for Validation 2\n",
      "Model Number: 7 of 52 with model RollingRegression for Validation 2\n",
      "Model Number: 8 of 52 with model RollingRegression for Validation 2\n",
      "Model Number: 9 of 52 with model RollingRegression for Validation 2\n",
      "Model Number: 10 of 52 with model ETS for Validation 2\n",
      "Model Number: 11 of 52 with model GLS for Validation 2\n"
     ]
    },
    {
     "name": "stderr",
     "output_type": "stream",
     "text": [
      "/anaconda3/lib/python3.7/site-packages/statsmodels/tsa/holtwinters/model.py:429: FutureWarning: After 0.13 initialization must be handled at model creation\n",
      "  FutureWarning,\n"
     ]
    },
    {
     "name": "stdout",
     "output_type": "stream",
     "text": [
      "Model Number: 12 of 52 with model ETS for Validation 2\n"
     ]
    },
    {
     "name": "stderr",
     "output_type": "stream",
     "text": [
      "/anaconda3/lib/python3.7/site-packages/statsmodels/tsa/holtwinters/model.py:429: FutureWarning: After 0.13 initialization must be handled at model creation\n",
      "  FutureWarning,\n"
     ]
    },
    {
     "name": "stdout",
     "output_type": "stream",
     "text": [
      "Model Number: 13 of 52 with model RollingRegression for Validation 2\n"
     ]
    },
    {
     "name": "stderr",
     "output_type": "stream",
     "text": [
      "/anaconda3/lib/python3.7/site-packages/sklearn/utils/validation.py:63: DataConversionWarning: A column-vector y was passed when a 1d array was expected. Please change the shape of y to (n_samples, ), for example using ravel().\n",
      "  return f(*args, **kwargs)\n"
     ]
    },
    {
     "name": "stdout",
     "output_type": "stream",
     "text": [
      "Model Number: 14 of 52 with model LastValueNaive for Validation 2\n",
      "Model Number: 15 of 52 with model LastValueNaive for Validation 2\n",
      "Model Number: 16 of 52 with model DatepartRegression for Validation 2\n",
      "Model Number: 17 of 52 with model SeasonalNaive for Validation 2\n",
      "Model Number: 18 of 52 with model WindowRegression for Validation 2\n"
     ]
    },
    {
     "name": "stderr",
     "output_type": "stream",
     "text": [
      "/anaconda3/lib/python3.7/site-packages/sklearn/utils/validation.py:63: DataConversionWarning: A column-vector y was passed when a 1d array was expected. Please change the shape of y to (n_samples, ), for example using ravel().\n",
      "  return f(*args, **kwargs)\n"
     ]
    },
    {
     "name": "stdout",
     "output_type": "stream",
     "text": [
      "Model Number: 19 of 52 with model SeasonalNaive for Validation 2\n",
      "Model Number: 20 of 52 with model WindowRegression for Validation 2\n"
     ]
    },
    {
     "name": "stderr",
     "output_type": "stream",
     "text": [
      "/anaconda3/lib/python3.7/site-packages/sklearn/utils/validation.py:63: DataConversionWarning: A column-vector y was passed when a 1d array was expected. Please change the shape of y to (n_samples, ), for example using ravel().\n",
      "  return f(*args, **kwargs)\n"
     ]
    },
    {
     "name": "stdout",
     "output_type": "stream",
     "text": [
      "Model Number: 21 of 52 with model LastValueNaive for Validation 2\n",
      "Model Number: 22 of 52 with model SeasonalNaive for Validation 2\n",
      "Model Number: 23 of 52 with model SeasonalNaive for Validation 2\n",
      "Model Number: 24 of 52 with model SeasonalNaive for Validation 2\n",
      "Model Number: 25 of 52 with model DatepartRegression for Validation 2\n",
      "Model Number: 26 of 52 with model DatepartRegression for Validation 2\n",
      "Model Number: 27 of 52 with model GLM for Validation 2\n",
      "Model Number: 28 of 52 with model GLM for Validation 2\n"
     ]
    },
    {
     "name": "stderr",
     "output_type": "stream",
     "text": [
      "/anaconda3/lib/python3.7/site-packages/scipy/optimize/minpack.py:829: OptimizeWarning: Covariance of the parameters could not be estimated\n",
      "  category=OptimizeWarning)\n",
      "/anaconda3/lib/python3.7/site-packages/scipy/optimize/minpack.py:829: OptimizeWarning: Covariance of the parameters could not be estimated\n",
      "  category=OptimizeWarning)\n"
     ]
    },
    {
     "name": "stdout",
     "output_type": "stream",
     "text": [
      "Model Number: 29 of 52 with model GLM for Validation 2\n",
      "Model Number: 30 of 52 with model GLM for Validation 2\n"
     ]
    },
    {
     "name": "stderr",
     "output_type": "stream",
     "text": [
      "/anaconda3/lib/python3.7/site-packages/scipy/optimize/minpack.py:829: OptimizeWarning: Covariance of the parameters could not be estimated\n",
      "  category=OptimizeWarning)\n",
      "/anaconda3/lib/python3.7/site-packages/statsmodels/genmod/generalized_linear_model.py:296: DomainWarning: The inverse_power link function does not respect the domain of the Gamma family.\n",
      "  DomainWarning)\n",
      "/anaconda3/lib/python3.7/site-packages/scipy/optimize/minpack.py:829: OptimizeWarning: Covariance of the parameters could not be estimated\n",
      "  category=OptimizeWarning)\n",
      "/anaconda3/lib/python3.7/site-packages/statsmodels/genmod/generalized_linear_model.py:296: DomainWarning: The inverse_power link function does not respect the domain of the Gamma family.\n",
      "  DomainWarning)\n"
     ]
    },
    {
     "name": "stdout",
     "output_type": "stream",
     "text": [
      "Model Number: 31 of 52 with model ZeroesNaive for Validation 2\n",
      "Model Number: 32 of 52 with model ZeroesNaive for Validation 2\n",
      "Model Number: 33 of 52 with model ZeroesNaive for Validation 2\n",
      "Model Number: 34 of 52 with model UnobservedComponents for Validation 2\n",
      "Model Number: 35 of 52 with model AverageValueNaive for Validation 2\n",
      "Model Number: 36 of 52 with model GLM for Validation 2\n"
     ]
    },
    {
     "name": "stderr",
     "output_type": "stream",
     "text": [
      "/anaconda3/lib/python3.7/site-packages/statsmodels/genmod/families/family.py:1226: RuntimeWarning: divide by zero encountered in true_divide\n",
      "  endog_mu = self._clean(endog / mu)\n"
     ]
    },
    {
     "name": "stdout",
     "output_type": "stream",
     "text": [
      "Model Number: 37 of 52 with model UnobservedComponents for Validation 2\n",
      "Model Number: 38 of 52 with model UnobservedComponents for Validation 2\n",
      "Model Number: 39 of 52 with model UnobservedComponents for Validation 2\n",
      "Model Number: 40 of 52 with model UnobservedComponents for Validation 2\n",
      "Model Number: 41 of 52 with model AverageValueNaive for Validation 2\n",
      "Model Number: 42 of 52 with model ETS for Validation 2\n"
     ]
    },
    {
     "name": "stderr",
     "output_type": "stream",
     "text": [
      "/anaconda3/lib/python3.7/site-packages/statsmodels/tsa/holtwinters/model.py:429: FutureWarning: After 0.13 initialization must be handled at model creation\n",
      "  FutureWarning,\n",
      "/anaconda3/lib/python3.7/site-packages/statsmodels/tsa/holtwinters/model.py:429: FutureWarning: After 0.13 initialization must be handled at model creation\n",
      "  FutureWarning,\n",
      "/anaconda3/lib/python3.7/site-packages/statsmodels/tsa/holtwinters/model.py:429: FutureWarning: After 0.13 initialization must be handled at model creation\n",
      "  FutureWarning,\n"
     ]
    },
    {
     "name": "stdout",
     "output_type": "stream",
     "text": [
      "Model Number: 43 of 52 with model ETS for Validation 2\n",
      "Model Number: 44 of 52 with model ETS for Validation 2\n",
      "Model Number: 45 of 52 with model WindowRegression for Validation 2\n",
      "Model Number: 46 of 52 with model AverageValueNaive for Validation 2\n",
      "Model Number: 47 of 52 with model GLS for Validation 2\n",
      "Model Number: 48 of 52 with model DatepartRegression for Validation 2\n",
      "Model Number: 49 of 52 with model DatepartRegression for Validation 2\n",
      "Model Number: 50 of 52 with model GLS for Validation 2\n",
      "Model Number: 51 of 52 with model GLS for Validation 2\n",
      "Model Number: 52 of 52 with model ZeroesNaive for Validation 2\n",
      "Vetchain Price Prediction\n",
      "               Close\n",
      "2021-06-16  0.100259\n",
      "2021-06-17  0.099477\n",
      "2021-06-18  0.098671\n",
      "2021-06-19  0.089498\n",
      "2021-06-20  0.087668\n",
      "2021-06-21  0.087078\n",
      "2021-06-22  0.086195\n",
      "2021-06-23  0.085296\n",
      "2021-06-24  0.084383\n",
      "2021-06-25  0.083457\n"
     ]
    }
   ],
   "source": [
    "from autots import AutoTS\n",
    "model = AutoTS(forecast_length=10, frequency='infer', ensemble='simple', drop_data_older_than_periods=200)\n",
    "model = model.fit(Data, date_col='Date', value_col='Close', id_col=None)\n",
    "\n",
    "prediction = model.predict()\n",
    "forecast = prediction.forecast\n",
    "print(\"Vetchain Price Prediction\")\n",
    "print(forecast)"
   ]
  },
  {
   "cell_type": "code",
   "execution_count": null,
   "metadata": {},
   "outputs": [],
   "source": []
  },
  {
   "cell_type": "code",
   "execution_count": null,
   "metadata": {},
   "outputs": [],
   "source": []
  }
 ],
 "metadata": {
  "kernelspec": {
   "display_name": "Python 3",
   "language": "python",
   "name": "python3"
  },
  "language_info": {
   "codemirror_mode": {
    "name": "ipython",
    "version": 3
   },
   "file_extension": ".py",
   "mimetype": "text/x-python",
   "name": "python",
   "nbconvert_exporter": "python",
   "pygments_lexer": "ipython3",
   "version": "3.7.2"
  }
 },
 "nbformat": 4,
 "nbformat_minor": 2
}
